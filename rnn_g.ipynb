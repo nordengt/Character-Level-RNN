{
 "cells": [
  {
   "cell_type": "code",
   "execution_count": 1,
   "metadata": {},
   "outputs": [],
   "source": [
    "import torch\n",
    "from typing import Tuple, List, Optional\n",
    "\n",
    "import unicodedata\n",
    "import matplotlib.pyplot as plt\n",
    "\n",
    "def unicode_to_ascii(name: str, letters: str) -> str:\n",
    "    return \"\".join(\n",
    "        c for c in unicodedata.normalize(\"NFKD\", name)\n",
    "        if not unicodedata.combining(c) and c in letters\n",
    "    )\n",
    "\n",
    "def name_to_tensor(name: str, letters: str, n_letters: int) -> torch.Tensor:\n",
    "    name = unicode_to_ascii(name, letters)\n",
    "    name_tensor = torch.zeros(len(name), 1, n_letters)\n",
    "    for i, char in enumerate(name):\n",
    "        name_tensor[i, 0, letters.index(char)] = 1\n",
    "    return name_tensor\n",
    "\n",
    "def output_category(output: torch.Tensor, categories: list) -> Tuple[str, int]:\n",
    "    return categories[torch.argmax(output, dim=1).item()]\n",
    "\n",
    "def plot_losses(losses: List[float], save_path: Optional[str] = None) -> None:\n",
    "    plt.plot(losses, label=\"Loss\")\n",
    "    plt.xlabel(\"Iteration\")\n",
    "    plt.ylabel(\"Loss\")\n",
    "    plt.title(\"Training Loss\")\n",
    "    plt.legend()\n",
    "    if save_path:\n",
    "        plt.savefig(save_path)\n",
    "    plt.show()"
   ]
  },
  {
   "cell_type": "code",
   "execution_count": 2,
   "metadata": {},
   "outputs": [],
   "source": [
    "import glob\n",
    "from typing import List, Dict\n",
    "\n",
    "from utils import unicode_to_ascii\n",
    "\n",
    "def get_names(file: str, letters: str) -> List[str]:\n",
    "    names = open(file, encoding=\"utf-8\").read().strip().split(\"\\n\")\n",
    "    return [unicode_to_ascii(name, letters) for name in names]\n",
    "\n",
    "def get_data(path: str, letters: str) -> Dict[str, List[str]]:\n",
    "    files = glob.glob(path)\n",
    "    category_name_dict = {}\n",
    "    for filename in files:\n",
    "        category = filename.split(\"\\\\\")[-1].split('.')[0]\n",
    "        category_name_dict[category] = get_names(filename, letters)\n",
    "    categories = list(category_name_dict.keys())\n",
    "    n_letters = len(letters)\n",
    "    n_categories = len(categories)\n",
    "    return category_name_dict, categories, n_letters, n_categories"
   ]
  },
  {
   "cell_type": "code",
   "execution_count": 3,
   "metadata": {},
   "outputs": [],
   "source": [
    "import string\n",
    "\n",
    "path = \"./data/names/*.txt\"\n",
    "letters = string.ascii_letters + \" .,;'\"\n",
    "\n",
    "category_name_dict, categories, n_letters, n_categories = get_data(path, letters)\n",
    "n_hidden = 128"
   ]
  },
  {
   "cell_type": "code",
   "execution_count": 4,
   "metadata": {},
   "outputs": [],
   "source": [
    "import random\n",
    "\n",
    "def random_choice(cat_list: list) -> str:\n",
    "    return cat_list[random.randint(0, len(cat_list)-1)]\n",
    "\n",
    "def random_sample():\n",
    "    category = random_choice(categories)\n",
    "    name = random_choice(category_name_dict[category])\n",
    "    category_tensor = torch.tensor([categories.index(category)], dtype=torch.long)\n",
    "    name_tensor = name_to_tensor(name, letters, n_letters)\n",
    "    return name_tensor, category_tensor, name, category"
   ]
  },
  {
   "cell_type": "code",
   "execution_count": 5,
   "metadata": {},
   "outputs": [],
   "source": [
    "def category_tensor(category):\n",
    "    idx = categories.index(category)\n",
    "    cat_tensor = torch.zeros(1, n_categories)\n",
    "    cat_tensor[0][idx] = 1\n",
    "    return cat_tensor"
   ]
  },
  {
   "cell_type": "code",
   "execution_count": 6,
   "metadata": {},
   "outputs": [
    {
     "data": {
      "text/plain": [
       "tensor([[0., 0., 0., 0., 0., 0., 0., 0., 1., 0., 0., 0., 0., 0., 0., 0., 0., 0.]])"
      ]
     },
     "execution_count": 6,
     "metadata": {},
     "output_type": "execute_result"
    }
   ],
   "source": [
    "category_tensor(\"Irish\")"
   ]
  },
  {
   "cell_type": "code",
   "execution_count": 7,
   "metadata": {},
   "outputs": [
    {
     "data": {
      "text/plain": [
       "tensor([8])"
      ]
     },
     "execution_count": 7,
     "metadata": {},
     "output_type": "execute_result"
    }
   ],
   "source": [
    "category_tensor = torch.tensor([categories.index(\"Irish\")], dtype=torch.long)\n",
    "category_tensor"
   ]
  },
  {
   "cell_type": "code",
   "execution_count": 8,
   "metadata": {},
   "outputs": [],
   "source": [
    "def target_tensor(name):\n",
    "    letter_indexes = [letters.find(name[i]) for i in range(1, len(name))]\n",
    "    print(letter_indexes)\n",
    "    letter_indexes.append(n_letters - 1) # EOS\n",
    "    return torch.LongTensor(letter_indexes)"
   ]
  },
  {
   "cell_type": "code",
   "execution_count": 9,
   "metadata": {},
   "outputs": [
    {
     "data": {
      "text/plain": [
       "torch.Size([3, 1, 57])"
      ]
     },
     "execution_count": 9,
     "metadata": {},
     "output_type": "execute_result"
    }
   ],
   "source": [
    "nt = name_to_tensor(\"ngt\", letters, n_letters)\n",
    "nt.shape"
   ]
  },
  {
   "cell_type": "code",
   "execution_count": 10,
   "metadata": {},
   "outputs": [
    {
     "data": {
      "text/plain": [
       "tensor([[[0., 0., 0., 0., 0., 0., 0., 0., 0., 0., 0., 0., 0., 1., 0., 0., 0.,\n",
       "          0., 0., 0., 0., 0., 0., 0., 0., 0., 0., 0., 0., 0., 0., 0., 0., 0.,\n",
       "          0., 0., 0., 0., 0., 0., 0., 0., 0., 0., 0., 0., 0., 0., 0., 0., 0.,\n",
       "          0., 0., 0., 0., 0., 0.]],\n",
       "\n",
       "        [[0., 0., 0., 0., 0., 0., 1., 0., 0., 0., 0., 0., 0., 0., 0., 0., 0.,\n",
       "          0., 0., 0., 0., 0., 0., 0., 0., 0., 0., 0., 0., 0., 0., 0., 0., 0.,\n",
       "          0., 0., 0., 0., 0., 0., 0., 0., 0., 0., 0., 0., 0., 0., 0., 0., 0.,\n",
       "          0., 0., 0., 0., 0., 0.]],\n",
       "\n",
       "        [[0., 0., 0., 0., 0., 0., 0., 0., 0., 0., 0., 0., 0., 0., 0., 0., 0.,\n",
       "          0., 0., 1., 0., 0., 0., 0., 0., 0., 0., 0., 0., 0., 0., 0., 0., 0.,\n",
       "          0., 0., 0., 0., 0., 0., 0., 0., 0., 0., 0., 0., 0., 0., 0., 0., 0.,\n",
       "          0., 0., 0., 0., 0., 0.]]])"
      ]
     },
     "execution_count": 10,
     "metadata": {},
     "output_type": "execute_result"
    }
   ],
   "source": [
    "nt"
   ]
  },
  {
   "cell_type": "code",
   "execution_count": 11,
   "metadata": {},
   "outputs": [
    {
     "name": "stdout",
     "output_type": "stream",
     "text": [
      "[6, 19]\n"
     ]
    },
    {
     "data": {
      "text/plain": [
       "tensor([ 6, 19, 56])"
      ]
     },
     "execution_count": 11,
     "metadata": {},
     "output_type": "execute_result"
    }
   ],
   "source": [
    "tt = target_tensor(\"ngt\")\n",
    "tt"
   ]
  },
  {
   "cell_type": "code",
   "execution_count": 12,
   "metadata": {},
   "outputs": [
    {
     "data": {
      "text/plain": [
       "torch.Size([3])"
      ]
     },
     "execution_count": 12,
     "metadata": {},
     "output_type": "execute_result"
    }
   ],
   "source": [
    "tt.shape"
   ]
  },
  {
   "cell_type": "code",
   "execution_count": 13,
   "metadata": {},
   "outputs": [
    {
     "data": {
      "text/plain": [
       "tensor([[ 6],\n",
       "        [19],\n",
       "        [56]])"
      ]
     },
     "execution_count": 13,
     "metadata": {},
     "output_type": "execute_result"
    }
   ],
   "source": [
    "tt.unsqueeze_(-1)"
   ]
  },
  {
   "cell_type": "code",
   "execution_count": 14,
   "metadata": {},
   "outputs": [
    {
     "data": {
      "text/plain": [
       "torch.Size([3, 1])"
      ]
     },
     "execution_count": 14,
     "metadata": {},
     "output_type": "execute_result"
    }
   ],
   "source": [
    "tt.shape"
   ]
  },
  {
   "cell_type": "code",
   "execution_count": null,
   "metadata": {},
   "outputs": [],
   "source": []
  }
 ],
 "metadata": {
  "kernelspec": {
   "display_name": ".env",
   "language": "python",
   "name": "python3"
  },
  "language_info": {
   "codemirror_mode": {
    "name": "ipython",
    "version": 3
   },
   "file_extension": ".py",
   "mimetype": "text/x-python",
   "name": "python",
   "nbconvert_exporter": "python",
   "pygments_lexer": "ipython3",
   "version": "3.9.12"
  }
 },
 "nbformat": 4,
 "nbformat_minor": 2
}
